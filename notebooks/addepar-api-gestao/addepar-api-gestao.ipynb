{
 "cells": [
  {
   "cell_type": "code",
   "execution_count": 1,
   "metadata": {},
   "outputs": [],
   "source": [
    "import pycurl\n",
    "import certifi\n",
    "from io import BytesIO\n",
    "\n",
    "import base64\n",
    "import requests\n",
    "import json\n",
    "import pandas as pd\n",
    "\n",
    "import warnings\n",
    "warnings.filterwarnings(\"ignore\")\n",
    "\n",
    "buffer = BytesIO()\n",
    "c = pycurl.Curl()\n",
    "\n",
    "\n",
    "from matplotlib import pyplot\n"
   ]
  },
  {
   "cell_type": "code",
   "execution_count": 2,
   "metadata": {},
   "outputs": [],
   "source": [
    "key = \"1bf0ce39-582e-4d31-9cae-46d3a29fc5d5\"\n",
    "secret = \"BIwiggBeRHrZCEyFo1IL3iTzkFh2zrfXPhSydGqR\"\n",
    "\n",
    "\n",
    "key_secret = f'{key}:{secret}'\n",
    "key_secret_bytes = key_secret.encode(\"ascii\")\n",
    "key_secret_base64 = base64.b64encode(key_secret_bytes)\n",
    "auth = str(key_secret_base64)[2:-1]\n",
    "\n",
    "\n",
    "addepar_url = \"https://teracapital.addepar.com/api/v1/\"\n",
    "addepar_headers = { \"Accept\": \"application/vnd.api+json\", 'Addepar-Firm': '403', 'Authorization': 'Basic ' + auth}"
   ]
  },
  {
   "cell_type": "code",
   "execution_count": 3,
   "metadata": {},
   "outputs": [],
   "source": [
    "%%capture --no-display\n",
    "\n",
    "view_jonas= str(388310)\n",
    "view_historical_returns= str(394573)\n",
    "\n",
    "resource_area = f'portfolio/views/{view_jonas}/results'\n",
    "url = addepar_url + resource_area\n",
    "\n",
    "querystring = {\"portfolio_type\":\"ENTITY\",\"portfolio_id\":\"1877940\",\"output_type\":\"JSON\",\"start_date\":\"2022-02-01\",\"end_date\":\"2022-08-01\"}\n",
    "\n",
    "\n",
    "addepar_request = requests.get(url, headers=addepar_headers, params=querystring)\n",
    "addepar_results = addepar_request.json()['data']\n",
    "addepar_meta = addepar_request.json()['meta']"
   ]
  },
  {
   "cell_type": "code",
   "execution_count": 4,
   "metadata": {},
   "outputs": [
    {
     "data": {
      "text/html": [
       "<div>\n",
       "<style scoped>\n",
       "    .dataframe tbody tr th:only-of-type {\n",
       "        vertical-align: middle;\n",
       "    }\n",
       "\n",
       "    .dataframe tbody tr th {\n",
       "        vertical-align: top;\n",
       "    }\n",
       "\n",
       "    .dataframe thead th {\n",
       "        text-align: right;\n",
       "    }\n",
       "</style>\n",
       "<table border=\"1\" class=\"dataframe\">\n",
       "  <thead>\n",
       "    <tr style=\"text-align: right;\">\n",
       "      <th></th>\n",
       "      <th>name</th>\n",
       "      <th>grouping</th>\n",
       "      <th>children</th>\n",
       "      <th>columns.billing_aum</th>\n",
       "      <th>columns.value</th>\n",
       "      <th>columns.billing_fees</th>\n",
       "    </tr>\n",
       "  </thead>\n",
       "  <tbody>\n",
       "    <tr>\n",
       "      <th>0</th>\n",
       "      <td>Local</td>\n",
       "      <td>_custom_region_335655</td>\n",
       "      <td>[]</td>\n",
       "      <td>1.887918e+07</td>\n",
       "      <td>3.067903e+07</td>\n",
       "      <td>35107.515655</td>\n",
       "    </tr>\n",
       "    <tr>\n",
       "      <th>1</th>\n",
       "      <td>Offshore</td>\n",
       "      <td>_custom_region_335655</td>\n",
       "      <td>[]</td>\n",
       "      <td>2.784297e+07</td>\n",
       "      <td>3.049865e+07</td>\n",
       "      <td>51776.472979</td>\n",
       "    </tr>\n",
       "  </tbody>\n",
       "</table>\n",
       "</div>"
      ],
      "text/plain": [
       "       name               grouping children  columns.billing_aum  \\\n",
       "0     Local  _custom_region_335655       []         1.887918e+07   \n",
       "1  Offshore  _custom_region_335655       []         2.784297e+07   \n",
       "\n",
       "   columns.value  columns.billing_fees  \n",
       "0   3.067903e+07          35107.515655  \n",
       "1   3.049865e+07          51776.472979  "
      ]
     },
     "execution_count": 4,
     "metadata": {},
     "output_type": "execute_result"
    }
   ],
   "source": [
    "x= pd.json_normalize(addepar_results[\"attributes\"][\"total\"][\"children\"])\n",
    "x= pd.json_normalize(x['children'][0])\n",
    "x"
   ]
  },
  {
   "cell_type": "code",
   "execution_count": 5,
   "metadata": {},
   "outputs": [],
   "source": [
    "%%capture --no-display\n",
    "\n",
    "\n",
    "resource_area = f'portfolio/views/{view_historical_returns}/results'\n",
    "\n",
    "url = addepar_url + resource_area\n",
    "\n",
    "start_date='2022-02-01'\n",
    "end_date='2022-08-01'\n",
    "portfolio_id= '1877940' #BILBAO \n",
    "\n",
    "\n",
    "querystring = {\"portfolio_type\":\"ENTITY\",\"portfolio_id\":portfolio_id,\"output_type\":\"XLSX\",\"start_date\":start_date,\"end_date\":end_date}\n",
    "\n",
    "addepar_request = requests.get(url, headers=addepar_headers, params=querystring)\n",
    "\n",
    "addepar_results = addepar_request"
   ]
  },
  {
   "cell_type": "code",
   "execution_count": 6,
   "metadata": {},
   "outputs": [
    {
     "data": {
      "image/png": "[encoded data removed]",
      "text/plain": [
       "<Figure size 432x288 with 1 Axes>"
      ]
     },
     "metadata": {
      "needs_background": "light"
     },
     "output_type": "display_data"
    }
   ],
   "source": [
    "\n",
    "res_content = addepar_results.content\n",
    "df = pd.read_excel(res_content,index_col=\"Asset Class\").T\n",
    "\n",
    "total = df.iloc[: , -1].iloc[::-1]\n",
    "total.plot()\n",
    "pyplot.show()"
   ]
  },
  {
   "cell_type": "code",
   "execution_count": 7,
   "metadata": {},
   "outputs": [],
   "source": [
    "#TERA JURO REAL - TIME SERIES\n",
    "n_column= df.columns.get_loc(\"TERA JURO REAL\")\n",
    "\n",
    "bilbao_juro_real= df.iloc[:,[n_column,n_column+1,n_column+2,n_column+3,n_column+4]]#.iloc[: , -1].iloc[::-1]\n",
    "# bilbao_juro_real.plot()\n",
    "# pyplot.show()\n"
   ]
  },
  {
   "cell_type": "code",
   "execution_count": 8,
   "metadata": {},
   "outputs": [
    {
     "data": {
      "text/html": [
       "<div>\n",
       "<style scoped>\n",
       "    .dataframe tbody tr th:only-of-type {\n",
       "        vertical-align: middle;\n",
       "    }\n",
       "\n",
       "    .dataframe tbody tr th {\n",
       "        vertical-align: top;\n",
       "    }\n",
       "\n",
       "    .dataframe thead th {\n",
       "        text-align: right;\n",
       "    }\n",
       "</style>\n",
       "<table border=\"1\" class=\"dataframe\">\n",
       "  <thead>\n",
       "    <tr style=\"text-align: right;\">\n",
       "      <th>Asset Class</th>\n",
       "      <th>Cash &amp; Cash Equivalent</th>\n",
       "      <th>BRL</th>\n",
       "      <th>Price</th>\n",
       "      <th>Quantity</th>\n",
       "    </tr>\n",
       "  </thead>\n",
       "  <tbody>\n",
       "    <tr>\n",
       "      <th>Today</th>\n",
       "      <td>NaN</td>\n",
       "      <td>NaN</td>\n",
       "      <td>1.0</td>\n",
       "      <td>23087.561947</td>\n",
       "    </tr>\n",
       "    <tr>\n",
       "      <th>7/31/2022</th>\n",
       "      <td>NaN</td>\n",
       "      <td>NaN</td>\n",
       "      <td>1.0</td>\n",
       "      <td>23087.564187</td>\n",
       "    </tr>\n",
       "    <tr>\n",
       "      <th>7/30/2022</th>\n",
       "      <td>NaN</td>\n",
       "      <td>NaN</td>\n",
       "      <td>1.0</td>\n",
       "      <td>23087.564187</td>\n",
       "    </tr>\n",
       "    <tr>\n",
       "      <th>7/29/2022</th>\n",
       "      <td>NaN</td>\n",
       "      <td>NaN</td>\n",
       "      <td>1.0</td>\n",
       "      <td>23087.564187</td>\n",
       "    </tr>\n",
       "    <tr>\n",
       "      <th>7/28/2022</th>\n",
       "      <td>NaN</td>\n",
       "      <td>NaN</td>\n",
       "      <td>1.0</td>\n",
       "      <td>133886.214187</td>\n",
       "    </tr>\n",
       "    <tr>\n",
       "      <th>...</th>\n",
       "      <td>...</td>\n",
       "      <td>...</td>\n",
       "      <td>...</td>\n",
       "      <td>...</td>\n",
       "    </tr>\n",
       "    <tr>\n",
       "      <th>5/7/2022</th>\n",
       "      <td>NaN</td>\n",
       "      <td>NaN</td>\n",
       "      <td>1.0</td>\n",
       "      <td>36842.416309</td>\n",
       "    </tr>\n",
       "    <tr>\n",
       "      <th>5/6/2022</th>\n",
       "      <td>NaN</td>\n",
       "      <td>NaN</td>\n",
       "      <td>1.0</td>\n",
       "      <td>36842.416309</td>\n",
       "    </tr>\n",
       "    <tr>\n",
       "      <th>5/5/2022</th>\n",
       "      <td>NaN</td>\n",
       "      <td>NaN</td>\n",
       "      <td>1.0</td>\n",
       "      <td>39117.586309</td>\n",
       "    </tr>\n",
       "    <tr>\n",
       "      <th>5/4/2022</th>\n",
       "      <td>NaN</td>\n",
       "      <td>NaN</td>\n",
       "      <td>1.0</td>\n",
       "      <td>39117.586309</td>\n",
       "    </tr>\n",
       "    <tr>\n",
       "      <th>5/3/2022</th>\n",
       "      <td>NaN</td>\n",
       "      <td>NaN</td>\n",
       "      <td>1.0</td>\n",
       "      <td>39117.576309</td>\n",
       "    </tr>\n",
       "  </tbody>\n",
       "</table>\n",
       "<p>90 rows × 4 columns</p>\n",
       "</div>"
      ],
      "text/plain": [
       "Asset Class Cash & Cash Equivalent  BRL Price       Quantity\n",
       "Today                          NaN  NaN   1.0   23087.561947\n",
       "7/31/2022                      NaN  NaN   1.0   23087.564187\n",
       "7/30/2022                      NaN  NaN   1.0   23087.564187\n",
       "7/29/2022                      NaN  NaN   1.0   23087.564187\n",
       "7/28/2022                      NaN  NaN   1.0  133886.214187\n",
       "...                            ...  ...   ...            ...\n",
       "5/7/2022                       NaN  NaN   1.0   36842.416309\n",
       "5/6/2022                       NaN  NaN   1.0   36842.416309\n",
       "5/5/2022                       NaN  NaN   1.0   39117.586309\n",
       "5/4/2022                       NaN  NaN   1.0   39117.586309\n",
       "5/3/2022                       NaN  NaN   1.0   39117.576309\n",
       "\n",
       "[90 rows x 4 columns]"
      ]
     },
     "execution_count": 8,
     "metadata": {},
     "output_type": "execute_result"
    }
   ],
   "source": [
    "#TERA JURO REAL - TIME SERIES POR CLIENTE\n",
    "\n",
    "bilbao_juro_real= df.iloc[:,[0,1,2,3]]\n",
    "bilbao_juro_real\n",
    "\n"
   ]
  },
  {
   "cell_type": "code",
   "execution_count": 15,
   "metadata": {},
   "outputs": [],
   "source": [
    "#ACESSING INFOS BY INVESTMENTS\n",
    "\n",
    "#%%capture --no-display\n",
    "\n",
    "\n",
    "TJR= str(15080846)\n",
    "\n",
    "#resource_area = f'portfolio/views/{TJR}/results'\n",
    "resource_area = f'entities/{TJR}'\n",
    "\n",
    "url = addepar_url + resource_area\n",
    "\n",
    "start_date='2022-02-01'\n",
    "end_date='2022-08-01'\n",
    "portfolio_id= '1877940' #BILBAO \n",
    "\n",
    "\n",
    "querystring = {\"portfolio_type\":\"ENTITY\",\"output_type\":\"JSON\"} # ,\"portfolio_id\":portfolio_id, \"start_date\":start_date,\"end_date\":end_date}\n",
    "\n",
    "addepar_request = requests.get(url, headers=addepar_headers, params=querystring)\n",
    "addepar_results = addepar_request\n"
   ]
  },
  {
   "cell_type": "code",
   "execution_count": 16,
   "metadata": {},
   "outputs": [
    {
     "data": {
      "text/plain": [
       "{'data': {'id': '15080846',\n",
       "  'type': 'entities',\n",
       "  'attributes': {'currency_factor': 'BRL',\n",
       "   'ownership_type': 'SHARE_BASED',\n",
       "   'asset_class': [{'date': None, 'value': 'Renda Fixa', 'weight': 1.0}],\n",
       "   'model_type': 'MUTUAL_FUND',\n",
       "   '_custom_codintrag_498405': [{'date': None,\n",
       "     'value': '1TERAJUR',\n",
       "     'weight': 1.0}],\n",
       "   '_custom_aba_carteira_914855': [{'date': None,\n",
       "     'value': 'Outros_Fundos_De_Investimento',\n",
       "     'weight': 1.0}],\n",
       "   '_custom_region_335655': [{'date': None, 'value': 'Local', 'weight': 1.0}],\n",
       "   '_custom_sub_asset_class_310515': [{'date': None,\n",
       "     'value': 'Juro Real ',\n",
       "     'weight': 1.0}],\n",
       "   'bbgid': [{'date': None, 'value': 'BBG01609VTW2', 'weight': 1.0}],\n",
       "   '_custom_price_input_type_361235': [{'date': None,\n",
       "     'value': 'Outros Local',\n",
       "     'weight': 1.0}],\n",
       "   'original_name': 'TERA JURO REAL',\n",
       "   '_custom_bbg_ticker_363502': [{'date': None,\n",
       "     'value': 'TERJREL BZ Equity',\n",
       "     'weight': 1.0}],\n",
       "   '_custom_produtos_755687': [{'date': None,\n",
       "     'value': 'TERA',\n",
       "     'weight': 1.0}]},\n",
       "  'links': {'self': '/v1/entities/15080846'}},\n",
       " 'included': []}"
      ]
     },
     "execution_count": 16,
     "metadata": {},
     "output_type": "execute_result"
    }
   ],
   "source": [
    "addepar_results = addepar_request.json()\n",
    "addepar_results\n",
    "# res_content = addepar_results.content\n",
    "# df = pd.read_excel(res_content,index_col=\"Asset Class\").T\n",
    "# df"
   ]
  },
  {
   "cell_type": "code",
   "execution_count": 17,
   "metadata": {},
   "outputs": [],
   "source": [
    "# quem atualiza valor \n",
    "# addepar conecta ao bloomberg ?\n",
    "#\n",
    "# WAGNER "
   ]
  },
  {
   "cell_type": "code",
   "execution_count": null,
   "metadata": {},
   "outputs": [],
   "source": []
  },
  {
   "cell_type": "code",
   "execution_count": null,
   "metadata": {},
   "outputs": [],
   "source": []
  },
  {
   "cell_type": "code",
   "execution_count": null,
   "metadata": {},
   "outputs": [],
   "source": []
  }
 ],
 "metadata": {
  "kernelspec": {
   "display_name": "Python 3.9.12 ('base')",
   "language": "python",
   "name": "python3"
  },
  "language_info": {
   "codemirror_mode": {
    "name": "ipython",
    "version": 3
   },
   "file_extension": ".py",
   "mimetype": "text/x-python",
   "name": "python",
   "nbconvert_exporter": "python",
   "pygments_lexer": "ipython3",
   "version": "3.9.12"
  },
  "orig_nbformat": 4,
  "vscode": {
   "interpreter": {
    "hash": "d6d95cc2113f27933d94cf5dc4756771c047fdf35dcdab64aef7915169771a1c"
   }
  }
 },
 "nbformat": 4,
 "nbformat_minor": 2
}
