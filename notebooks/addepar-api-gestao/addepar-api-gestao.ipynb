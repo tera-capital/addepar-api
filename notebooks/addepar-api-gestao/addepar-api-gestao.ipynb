{
 "cells": [
  {
   "cell_type": "code",
   "execution_count": 1,
   "metadata": {},
   "outputs": [],
   "source": [
    "import pycurl\n",
    "import certifi\n",
    "from io import BytesIO\n",
    "\n",
    "import base64\n",
    "import requests\n",
    "import json\n",
    "import pandas as pd\n",
    "\n",
    "import warnings\n",
    "warnings.filterwarnings(\"ignore\")\n",
    "\n",
    "buffer = BytesIO()\n",
    "c = pycurl.Curl()\n",
    "\n",
    "\n",
    "from matplotlib import pyplot\n"
   ]
  },
  {
   "cell_type": "code",
   "execution_count": null,
   "metadata": {},
   "outputs": [],
   "source": [
    "key = \"1bf0ce39-582e-4d31-9cae-46d3a29fc5d5\"\n",
    "secret = \"BIwiggBeRHrZCEyFo1IL3iTzkFh2zrfXPhSydGqR\"\n",
    "\n",
    "\n",
    "key_secret = f'{key}:{secret}'\n",
    "key_secret_bytes = key_secret.encode(\"ascii\")\n",
    "key_secret_base64 = base64.b64encode(key_secret_bytes)\n",
    "auth = str(key_secret_base64)[2:-1]\n",
    "\n",
    "\n",
    "addepar_url = \"https://teracapital.addepar.com/api/v1/\"\n",
    "addepar_headers = { \"Accept\": \"application/vnd.api+json\", 'Addepar-Firm': '403', 'Authorization': 'Basic ' + auth}"
   ]
  },
  {
   "cell_type": "code",
   "execution_count": null,
   "metadata": {},
   "outputs": [],
   "source": [
    "%%capture --no-display\n",
    "\n",
    "view_jonas= str(388310)\n",
    "view_historical_returns= str(394573)\n",
    "\n",
    "resource_area = f'portfolio/views/{view_jonas}/results'\n",
    "url = addepar_url + resource_area\n",
    "\n",
    "querystring = {\"portfolio_type\":\"ENTITY\",\"portfolio_id\":\"1877940\",\"output_type\":\"JSON\",\"start_date\":\"2022-02-01\",\"end_date\":\"2022-08-01\"}\n",
    "\n",
    "\n",
    "addepar_request = requests.get(url, headers=addepar_headers, params=querystring)\n",
    "addepar_results = addepar_request.json()['data']\n",
    "addepar_meta = addepar_request.json()['meta']"
   ]
  },
  {
   "cell_type": "code",
   "execution_count": null,
   "metadata": {},
   "outputs": [],
   "source": [
    "x= pd.json_normalize(addepar_results[\"attributes\"][\"total\"][\"children\"])\n",
    "x= pd.json_normalize(x['children'][0])\n",
    "x"
   ]
  },
  {
   "cell_type": "code",
   "execution_count": null,
   "metadata": {},
   "outputs": [],
   "source": [
    "%%capture --no-display\n",
    "\n",
    "\n",
    "resource_area = f'portfolio/views/{view_historical_returns}/results'\n",
    "\n",
    "url = addepar_url + resource_area\n",
    "\n",
    "start_date='2022-02-01'\n",
    "end_date='2022-08-01'\n",
    "portfolio_id= '1877940' #BILBAO \n",
    "\n",
    "\n",
    "querystring = {\"portfolio_type\":\"ENTITY\",\"portfolio_id\":portfolio_id,\"output_type\":\"XLSX\",\"start_date\":start_date,\"end_date\":end_date}\n",
    "\n",
    "addepar_request = requests.get(url, headers=addepar_headers, params=querystring)\n",
    "\n",
    "addepar_results = addepar_request"
   ]
  },
  {
   "cell_type": "code",
   "execution_count": null,
   "metadata": {},
   "outputs": [],
   "source": [
    "\n",
    "res_content = addepar_results.content\n",
    "df = pd.read_excel(res_content,index_col=\"Asset Class\").T\n",
    "\n",
    "total = df.iloc[: , -1].iloc[::-1]\n",
    "total.plot()\n",
    "pyplot.show()"
   ]
  },
  {
   "cell_type": "code",
   "execution_count": null,
   "metadata": {},
   "outputs": [],
   "source": [
    "#TERA JURO REAL - TIME SERIES\n",
    "n_column= df.columns.get_loc(\"TERA JURO REAL\")\n",
    "\n",
    "bilbao_juro_real= df.iloc[:,[n_column,n_column+1,n_column+2,n_column+3,n_column+4]]#.iloc[: , -1].iloc[::-1]\n",
    "# bilbao_juro_real.plot()\n",
    "# pyplot.show()\n"
   ]
  },
  {
   "cell_type": "code",
   "execution_count": null,
   "metadata": {},
   "outputs": [],
   "source": [
    "#TERA JURO REAL - TIME SERIES POR CLIENTE\n",
    "\n",
    "bilbao_juro_real= df.iloc[:,[0,1,2,3]]\n",
    "bilbao_juro_real\n",
    "\n"
   ]
  },
  {
   "cell_type": "code",
   "execution_count": null,
   "metadata": {},
   "outputs": [],
   "source": [
    "#ACESSING INFOS BY INVESTMENTS\n",
    "\n",
    "#%%capture --no-display\n",
    "\n",
    "\n",
    "TJR= str(15080846)\n",
    "\n",
    "#resource_area = f'portfolio/views/{TJR}/results'\n",
    "resource_area = f'attributes'\n",
    "\n",
    "url = addepar_url + resource_area\n",
    "\n",
    "start_date='2022-02-01'\n",
    "end_date='2022-08-01'\n",
    "portfolio_id= '1877940' #BILBAO \n",
    "\n",
    "\n",
    "querystring = {\"portfolio_type\":\"ENTITY\",\"output_type\":\"JSON\"} # ,\"portfolio_id\":portfolio_id, \"start_date\":start_date,\"end_date\":end_date}\n",
    "\n",
    "addepar_request = requests.get(url, headers=addepar_headers, params=querystring)\n",
    "addepar_results = addepar_request\n"
   ]
  },
  {
   "cell_type": "code",
   "execution_count": null,
   "metadata": {},
   "outputs": [],
   "source": [
    "addepar_results = addepar_request.json()\n",
    "addepar_results\n",
    "# res_content = addepar_results.content\n",
    "# df = pd.read_excel(res_content,index_col=\"Asset Class\").T\n",
    "# df"
   ]
  },
  {
   "cell_type": "code",
   "execution_count": null,
   "metadata": {},
   "outputs": [],
   "source": [
    "# quem atualiza valor \n",
    "# addepar conecta ao bloomberg ?\n",
    "#\n",
    "# WAGNER "
   ]
  },
  {
   "cell_type": "code",
   "execution_count": null,
   "metadata": {},
   "outputs": [],
   "source": []
  }
 ],
 "metadata": {
  "kernelspec": {
   "display_name": "Python 3.9.12 ('base')",
   "language": "python",
   "name": "python3"
  },
  "language_info": {
   "codemirror_mode": {
    "name": "ipython",
    "version": 3
   },
   "file_extension": ".py",
   "mimetype": "text/x-python",
   "name": "python",
   "nbconvert_exporter": "python",
   "pygments_lexer": "ipython3",
   "version": "3.9.12"
  },
  "orig_nbformat": 4,
  "vscode": {
   "interpreter": {
    "hash": "d6d95cc2113f27933d94cf5dc4756771c047fdf35dcdab64aef7915169771a1c"
   }
  }
 },
 "nbformat": 4,
 "nbformat_minor": 2
}
